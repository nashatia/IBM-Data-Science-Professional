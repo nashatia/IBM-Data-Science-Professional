{
    "cells": [
        {
            "cell_type": "markdown",
            "metadata": {
                "collapsed": true
            },
            "source": "# My Jupyter Notebook on IBM Watson Studio"
        },
        {
            "cell_type": "markdown",
            "metadata": {},
            "source": "__Nasha Hikmatia__ <br>\nData Scientist"
        },
        {
            "cell_type": "markdown",
            "metadata": {},
            "source": "_I am interested in data science because I love everything that is learned in data science since i studied deep learning_"
        },
        {
            "cell_type": "markdown",
            "metadata": {},
            "source": "### The below code should print text 'Road to be a Data Scientist'"
        },
        {
            "cell_type": "code",
            "execution_count": 8,
            "metadata": {},
            "outputs": [
                {
                    "name": "stdout",
                    "output_type": "stream",
                    "text": "Road to be a Data Scientist\n"
                }
            ],
            "source": "a = \"Data Scientist\"\nprint(\"Road to be a \" + a)"
        },
        {
            "cell_type": "markdown",
            "metadata": {},
            "source": "> Data Science Careers\n> * Data Scientist\n> * Data Engineer\n> * Data Analyst\n\n[IBM Data Science Professional] https://www.coursera.org/professional-certificates/ibm-data-science"
        }
    ],
    "metadata": {
        "kernelspec": {
            "display_name": "Python 3.7",
            "language": "python",
            "name": "python3"
        },
        "language_info": {
            "codemirror_mode": {
                "name": "ipython",
                "version": 3
            },
            "file_extension": ".py",
            "mimetype": "text/x-python",
            "name": "python",
            "nbconvert_exporter": "python",
            "pygments_lexer": "ipython3",
            "version": "3.7.9"
        }
    },
    "nbformat": 4,
    "nbformat_minor": 1
}